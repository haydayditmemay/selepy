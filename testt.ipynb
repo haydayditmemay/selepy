{
 "cells": [
  {
   "cell_type": "code",
   "execution_count": 3,
   "metadata": {},
   "outputs": [],
   "source": [
    "import random\n",
    "def b():\n",
    "    d = []\n",
    "    for i in range(12):\n",
    "        a = random.randint(0,100)\n",
    "        d.append(a)\n",
    "    return (d)\n"
   ]
  },
  {
   "cell_type": "code",
   "execution_count": null,
   "metadata": {},
   "outputs": [],
   "source": [
    "d = b()\n",
    "n = len(d)"
   ]
  },
  {
   "cell_type": "code",
   "execution_count": 1,
   "metadata": {},
   "outputs": [],
   "source": [
    "import tkinter as tk\n",
    "\n",
    "def create_grid():\n",
    "    root = tk.Tk()\n",
    "    root.title(\"Tkinter Grid Scale Example\")\n",
    "\n",
    "    # Cấu hình cột và hàng\n",
    "    root.grid_columnconfigure(0, weight=1)  # Cột 0 có trọng số 1\n",
    "    root.grid_columnconfigure(1, weight=2)  # Cột 1 có trọng số 2\n",
    "    root.grid_rowconfigure(0, weight=1)     # Hàng 0 có trọng số 1\n",
    "    root.grid_rowconfigure(1, weight=2)     # Hàng 1 có trọng số 2\n",
    "\n",
    "    # Thêm một số widget vào lưới\n",
    "    label1 = tk.Label(root, text=\"Label 1\", bg=\"lightblue\")\n",
    "    label1.grid(row=0, column=0, sticky=\"nsew\")\n",
    "\n",
    "    label2 = tk.Label(root, text=\"Label 2\", bg=\"lightgreen\")\n",
    "    label2.grid(row=0, column=1, sticky=\"nsew\")\n",
    "\n",
    "    label3 = tk.Label(root, text=\"Label 3\", bg=\"lightcoral\")\n",
    "    label3.grid(row=1, column=0, sticky=\"nsew\")\n",
    "\n",
    "    label4 = tk.Label(root, text=\"Label 4\", bg=\"lightgoldenrodyellow\")\n",
    "    label4.grid(row=1, column=1, sticky=\"nsew\")\n",
    "\n",
    "    root.mainloop()\n",
    "\n",
    "create_grid()\n",
    "\n"
   ]
  }
 ],
 "metadata": {
  "kernelspec": {
   "display_name": "Python 3",
   "language": "python",
   "name": "python3"
  },
  "language_info": {
   "codemirror_mode": {
    "name": "ipython",
    "version": 3
   },
   "file_extension": ".py",
   "mimetype": "text/x-python",
   "name": "python",
   "nbconvert_exporter": "python",
   "pygments_lexer": "ipython3",
   "version": "3.12.4"
  }
 },
 "nbformat": 4,
 "nbformat_minor": 2
}
